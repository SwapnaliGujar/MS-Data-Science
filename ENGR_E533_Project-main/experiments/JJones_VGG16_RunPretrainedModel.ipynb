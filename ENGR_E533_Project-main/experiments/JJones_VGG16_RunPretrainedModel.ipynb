{
 "cells": [
  {
   "cell_type": "markdown",
   "metadata": {
    "application/vnd.databricks.v1+cell": {
     "cellMetadata": {},
     "inputWidgets": {},
     "nuid": "698c167e-fc68-4027-b943-81f032b9e37d",
     "showTitle": false,
     "tableResultSettingsMap": {},
     "title": ""
    }
   },
   "source": [
    "\n",
    "<div style=\"text-align: center; line-height: 0; padding-top: 9px;\">  \n",
    "  <img src=\"/dbfs/mnt/preventech/data/user_files/gf591/ML/fruits-360/MyProducePal_Logo.PNG\" alt=\"Image\">  \n",
    "</div> "
   ]
  },
  {
   "cell_type": "markdown",
   "metadata": {
    "application/vnd.databricks.v1+cell": {
     "cellMetadata": {},
     "inputWidgets": {},
     "nuid": "44bf6c2e-725c-4d2c-bb8c-58407200421c",
     "showTitle": false,
     "tableResultSettingsMap": {},
     "title": ""
    }
   },
   "source": [
    "# This notebook is developed to read weights of pre-trained PyTorch Model VGG16 and fine tune it using Fruits 360 dataset."
   ]
  },
  {
   "cell_type": "markdown",
   "metadata": {},
   "source": [
    "### Imports"
   ]
  },
  {
   "cell_type": "code",
   "execution_count": 1,
   "metadata": {
    "_cell_guid": "b1076dfc-b9ad-4769-8c92-a6c4dae69d19",
    "_uuid": "8f2839f25d086af736a60e9eeb907d3b93b6e0e5",
    "application/vnd.databricks.v1+cell": {
     "cellMetadata": {
      "byteLimit": 2048000,
      "rowLimit": 10000
     },
     "inputWidgets": {},
     "nuid": "2ba511c1-01cd-4feb-906a-3d2276b7d1e1",
     "showTitle": false,
     "tableResultSettingsMap": {},
     "title": ""
    },
    "trusted": true
   },
   "outputs": [
    {
     "name": "stderr",
     "output_type": "stream",
     "text": [
      "/Users/joshuajones/Desktop/IU_Grad_School/Courses/ENGR_E_533/Homework/Repos/ENGR_E533_Project/.venv/lib/python3.12/site-packages/tqdm/auto.py:21: TqdmWarning: IProgress not found. Please update jupyter and ipywidgets. See https://ipywidgets.readthedocs.io/en/stable/user_install.html\n",
      "  from .autonotebook import tqdm as notebook_tqdm\n"
     ]
    }
   ],
   "source": [
    "import os\n",
    "import random\n",
    "import numpy as np\n",
    "import pandas as pd\n",
    "from PIL import Image\n",
    "import torch\n",
    "from torch import nn\n",
    "import torch.utils.data.dataloader\n",
    "import matplotlib.pyplot as plt\n",
    "from torchvision import datasets\n",
    "from torch.utils.data import DataLoader,Subset,random_split\n",
    "from torchvision import transforms\n",
    "from tqdm.auto import tqdm\n",
    "from timeit import default_timer as timer\n",
    "import torchvision\n",
    "from pathlib import Path\n",
    "from torchinfo import summary\n",
    "from timeit import default_timer as timer\n",
    "from PIL import Image\n"
   ]
  },
  {
   "cell_type": "markdown",
   "metadata": {},
   "source": [
    "### Helper funcs"
   ]
  },
  {
   "cell_type": "code",
   "execution_count": 3,
   "metadata": {},
   "outputs": [],
   "source": [
    "def device_setup() -> torch.DeviceObjType:\n",
    "    if torch.cuda.is_available():\n",
    "        device = torch.device(\"cuda\")\n",
    "        print(\"CUDA is available. Training on GPU.\")\n",
    "    \n",
    "    elif torch.backends.mps.is_available():\n",
    "        torch.backends.mps.benchmark = True\n",
    "        device = torch.device(\"mps\")\n",
    "        print(\"MPS is available. Training with MPS.\")\n",
    "    \n",
    "    else:\n",
    "        device = torch.device(\"cpu\")\n",
    "        print(\"CUDA is not available. Training on CPU.\")\n",
    "\n",
    "    return device\n",
    "\n",
    "def display_metadata(dataset, msg=\"\") -> None:\n",
    "    \"\"\"Displays size and range of various input types, used for debugging\"\"\"\n",
    "    if isinstance(dataset, torch.utils.data.Dataset):\n",
    "        sample, _ = dataset[0]\n",
    "        print(f'{msg} Dataset Shape: {dataset.data.shape}, Raw Min-Max: {dataset.data.min()}-{dataset.data.max()}, Min-Max: {sample.min().item():0.2f}-{sample.max().item():0.2f}')\n",
    "    elif isinstance(dataset, torch.Tensor):\n",
    "        print(f'{msg} Tensor Shape: {dataset.shape}, Min-Max: {dataset.min().item():0.2f}-{dataset.max().item():0.2f}')\n",
    "    elif isinstance(dataset, list):\n",
    "        print(f'{msg}   List Shape: {len(dataset)}, Min-Max: {min(dataset):0.2f}-{max(dataset):0.2f}')\n",
    "    else:\n",
    "        print(f\"{msg} Unsupported type for metadata display: {type(dataset)}\")"
   ]
  },
  {
   "cell_type": "code",
   "execution_count": null,
   "metadata": {
    "application/vnd.databricks.v1+cell": {
     "cellMetadata": {
      "byteLimit": 2048000,
      "rowLimit": 10000
     },
     "inputWidgets": {},
     "nuid": "3271d2c2-a1a7-4245-bd65-96623e6bb06e",
     "showTitle": false,
     "tableResultSettingsMap": {},
     "title": ""
    }
   },
   "outputs": [],
   "source": [
    "# results_path = '/dbfs/mnt/preventech/data/user_files/gf591/ML/fruits-360/test_results_vgg16_finetuned.csv'\n",
    "df_result = pd.read_csv(results_path)\n",
    "df_result"
   ]
  },
  {
   "cell_type": "markdown",
   "metadata": {},
   "source": [
    "### Setup Dataloaders"
   ]
  },
  {
   "cell_type": "code",
   "execution_count": 121,
   "metadata": {},
   "outputs": [],
   "source": [
    "def get_fixed_samples_per_class(dataset: datasets, num_samples_per_class=10) -> Subset:\n",
    "\n",
    "    class_indices = {}\n",
    "    for idx, label in enumerate(dataset.targets):\n",
    "        if label not in class_indices:\n",
    "            class_indices[label] = []\n",
    "        class_indices[label].append(idx)\n",
    "\n",
    "    selected_indices = []\n",
    "    for label, indices in class_indices.items():\n",
    "        selected_indices.extend(random.sample(indices, num_samples_per_class))\n",
    "\n",
    "    return Subset(dataset, selected_indices)\n",
    "\n",
    "\n",
    "def reverse_transform(tensor, mean=(0.5, 0.5, 0.5), std=(0.5, 0.5, 0.5), target_size=(100,100)):\n",
    "    tensor = tensor.clone()\n",
    "    for t, m, s in zip(tensor, mean, std):\n",
    "        t.mul_(s).add_(m)  \n",
    "    \n",
    "    tensor = torch.clamp(tensor, 0, 1)\n",
    "    pil_image = transforms.functional.to_pil_image(tensor)\n",
    "    resized_image = pil_image.resize(target_size, Image.BICUBIC)\n",
    "\n",
    "    return resized_image\n",
    "\n",
    "\n",
    "\n",
    "def plot_image_from_path(image_path:Path, target_size=(100,100)):\n",
    "    assert image_path.is_file(), f'not a valid path {image_path}'\n",
    "    img = Image.open(image_path)\n",
    "    resized_image = img.resize(target_size, Image.BICUBIC)\n",
    "    plt.imshow(resized_image)\n",
    "    plt.axis('off')\n",
    "    plt.title(f\"{image_path.parent.name}/{image_path.stem}\")\n",
    "    plt.show()\n",
    "\n",
    "\n",
    "class ImageFolderWithPaths(datasets.ImageFolder):\n",
    "    def __getitem__(self, index):\n",
    "        original_tuple = super().__getitem__(index)\n",
    "        path = self.samples[index][0] \n",
    "        return (*original_tuple, path, index) \n"
   ]
  },
  {
   "cell_type": "code",
   "execution_count": null,
   "metadata": {
    "application/vnd.databricks.v1+cell": {
     "cellMetadata": {
      "byteLimit": 2048000,
      "rowLimit": 10000
     },
     "inputWidgets": {},
     "nuid": "bed8f0d1-6eed-4b51-9b22-a9e6a1e32599",
     "showTitle": false,
     "tableResultSettingsMap": {},
     "title": ""
    }
   },
   "outputs": [],
   "source": [
    "#define dataloader and class_names\n",
    "def create_dataloaders(\n",
    "    train_data,\n",
    "    test_data,\n",
    "    batch_size:int,\n",
    "    num_workers:int=2,\n",
    "    train_split = (0.8,0.2),\n",
    "    device='cpu',\n",
    "):\n",
    "\n",
    "    # Split Training set into train and validation\n",
    "    train_ratio, val_ratio = train_split\n",
    "    total_samples = len(train_data)\n",
    "    train_size = int(train_ratio * total_samples)\n",
    "    val_size = total_samples - train_size\n",
    "    train_subset, val_subset = random_split(train_data, [train_size, val_size])\n",
    "\n",
    "\n",
    "    sample_image, sample_label = train_data[0]\n",
    "    print(sample_image.shape, sample_image.min(), sample_image.max())\n",
    "\n",
    "\n",
    "    # Setup Dataloaders\n",
    "    train_dataloader=DataLoader(\n",
    "        train_subset,\n",
    "        batch_size=batch_size, #how many image should select in each iter\n",
    "        shuffle=True, #mix the data\n",
    "        num_workers=num_workers,\n",
    "        pin_memory=True,\n",
    "        persistent_workers=True,\n",
    "    )\n",
    "\n",
    "    val_dataloader=DataLoader(\n",
    "        val_subset,\n",
    "        batch_size=batch_size, \n",
    "        shuffle=False,\n",
    "        num_workers=num_workers,\n",
    "        pin_memory=True,\n",
    "        persistent_workers=True,\n",
    "    )\n",
    "\n",
    "    test_dataloader=DataLoader(\n",
    "        test_data,\n",
    "        batch_size=batch_size,\n",
    "        shuffle=False,\n",
    "        num_workers=num_workers,\n",
    "        pin_memory=True,\n",
    "        persistent_workers=True,\n",
    "    )\n",
    "    \n",
    "    return train_dataloader,val_dataloader,test_dataloader"
   ]
  },
  {
   "cell_type": "code",
   "execution_count": null,
   "metadata": {
    "application/vnd.databricks.v1+cell": {
     "cellMetadata": {
      "byteLimit": 2048000,
      "rowLimit": 10000
     },
     "inputWidgets": {},
     "nuid": "bb1f15b9-bd4b-4503-8f7d-9b338f56e511",
     "showTitle": false,
     "tableResultSettingsMap": {},
     "title": ""
    }
   },
   "outputs": [
    {
     "name": "stdout",
     "output_type": "stream",
     "text": [
      "curr_alloc=6382291200\n",
      "drvr_alloc=7512736.0 KB\n",
      "MPS is available. Training with MPS.\n",
      "ImageClassification(\n",
      "    crop_size=[224]\n",
      "    resize_size=[256]\n",
      "    mean=[0.485, 0.456, 0.406]\n",
      "    std=[0.229, 0.224, 0.225]\n",
      "    interpolation=InterpolationMode.BILINEAR\n",
      ")\n",
      "torch.Size([3, 224, 224]) tensor(-1.6127) tensor(2.6400)\n"
     ]
    }
   ],
   "source": [
    "# #Get the pretrained model\n",
    "train_dir = \"fruits-360/Training\"\n",
    "test_dir  = \"fruits-360/Test\"\n",
    "\n",
    "batch_size = 32\n",
    "device = device_setup()\n",
    "\n",
    "if device==torch.device(\"mps\"):\n",
    "    torch.mps.empty_cache()  # Clears MPS memory cache which helps prevent memory leaks \n",
    "\n",
    "weights=torchvision.models.VGG16_Weights.DEFAULT\n",
    "auto_transforms=weights.transforms()\n",
    "print(auto_transforms)\n",
    "\n",
    "\n",
    "train_data=datasets.ImageFolder(train_dir,transform=auto_transforms)\n",
    "test_data=datasets.ImageFolder(test_dir,transform=auto_transforms)\n",
    "# ImageFolder custom class stores real sample index and filepath with sample\n",
    "test_dataset_with_paths = ImageFolderWithPaths(test_dir,transform=auto_transforms)\n",
    "\n",
    "class_names=train_data.classes\n",
    "\n",
    "# Get data loaders\n",
    "train_dataloader,val_dataloader,test_dataloader = create_dataloaders(train_data, \n",
    "                                                                    test_data, \n",
    "                                                                    num_workers=4,\n",
    "                                                                    batch_size=batch_size,\n",
    "                                                                    device=device)\n",
    "\n",
    "\n",
    "\n",
    "# Sample fixed # per class\n",
    "test_subset = get_fixed_samples_per_class(test_dataset_with_paths,num_samples_per_class=10)\n",
    "demo_test_dataloader=DataLoader(\n",
    "    test_subset,\n",
    "    batch_size=batch_size,\n",
    "    shuffle=False,\n",
    "    pin_memory=True,\n",
    ")\n",
    "\n",
    "model_vgg16=torchvision.models.vgg16(weights=weights)\n",
    "for param in model_vgg16.parameters():\n",
    "    param.requires_grad = False\n"
   ]
  },
  {
   "cell_type": "markdown",
   "metadata": {},
   "source": [
    "### Inspect Dataloaders"
   ]
  },
  {
   "cell_type": "code",
   "execution_count": 124,
   "metadata": {},
   "outputs": [
    {
     "data": {
      "text/plain": [
       "(56392, 14099, 23619, 1410)"
      ]
     },
     "execution_count": 124,
     "metadata": {},
     "output_type": "execute_result"
    }
   ],
   "source": [
    "len(train_dataloader.dataset), len(val_dataloader.dataset), len(test_dataloader.dataset), len(demo_test_dataloader.dataset)"
   ]
  },
  {
   "cell_type": "code",
   "execution_count": 126,
   "metadata": {
    "application/vnd.databricks.v1+cell": {
     "cellMetadata": {
      "byteLimit": 2048000,
      "rowLimit": 10000
     },
     "inputWidgets": {},
     "nuid": "bed00644-35cd-400d-8fc3-98c15e1af8a9",
     "showTitle": false,
     "tableResultSettingsMap": {},
     "title": ""
    }
   },
   "outputs": [
    {
     "name": "stdout",
     "output_type": "stream",
     "text": [
      "(64, 64)\n"
     ]
    },
    {
     "data": {
      "image/png": "[encoded data removed]",
      "text/plain": [
       "<Figure size 640x480 with 1 Axes>"
      ]
     },
     "metadata": {},
     "output_type": "display_data"
    },
    {
     "data": {
      "image/png": "[encoded data removed]",
      "text/plain": [
       "<Figure size 640x480 with 1 Axes>"
      ]
     },
     "metadata": {},
     "output_type": "display_data"
    }
   ],
   "source": [
    "# Get the first batch of images from the dataloader  \n",
    "for batch_idx, (images, labels, file_paths, indices) in enumerate(demo_test_dataloader):\n",
    "    \n",
    "    for i in range(len(images)):\n",
    "        # Reverse Normalization\n",
    "        image = images[i]\n",
    "        image_t = reverse_transform(image, target_size=(64,64))    \n",
    "        \n",
    "        print(image_t.size)\n",
    "        plt.imshow(image_t)  \n",
    "        plt.axis('off')\n",
    "        plt.show()  \n",
    "        plot_image_from_path(Path(file_paths[i]), target_size=(64,64))    \n",
    "\n",
    "        break\n",
    "    break"
   ]
  },
  {
   "cell_type": "code",
   "execution_count": 127,
   "metadata": {
    "application/vnd.databricks.v1+cell": {
     "cellMetadata": {
      "byteLimit": 2048000,
      "rowLimit": 10000
     },
     "inputWidgets": {},
     "nuid": "a95a87c5-ca44-4d79-af9c-8bf043651e60",
     "showTitle": false,
     "tableResultSettingsMap": {},
     "title": ""
    }
   },
   "outputs": [
    {
     "data": {
      "text/plain": [
       "========================================================================================================================\n",
       "Layer (type (var_name))                  Input Shape          Output Shape         Param #              Trainable\n",
       "========================================================================================================================\n",
       "VGG (VGG)                                [32, 3, 224, 224]    [32, 1000]           --                   False\n",
       "├─Sequential (features)                  [32, 3, 224, 224]    [32, 512, 7, 7]      --                   False\n",
       "│    └─Conv2d (0)                        [32, 3, 224, 224]    [32, 64, 224, 224]   (1,792)              False\n",
       "│    └─ReLU (1)                          [32, 64, 224, 224]   [32, 64, 224, 224]   --                   --\n",
       "│    └─Conv2d (2)                        [32, 64, 224, 224]   [32, 64, 224, 224]   (36,928)             False\n",
       "│    └─ReLU (3)                          [32, 64, 224, 224]   [32, 64, 224, 224]   --                   --\n",
       "│    └─MaxPool2d (4)                     [32, 64, 224, 224]   [32, 64, 112, 112]   --                   --\n",
       "│    └─Conv2d (5)                        [32, 64, 112, 112]   [32, 128, 112, 112]  (73,856)             False\n",
       "│    └─ReLU (6)                          [32, 128, 112, 112]  [32, 128, 112, 112]  --                   --\n",
       "│    └─Conv2d (7)                        [32, 128, 112, 112]  [32, 128, 112, 112]  (147,584)            False\n",
       "│    └─ReLU (8)                          [32, 128, 112, 112]  [32, 128, 112, 112]  --                   --\n",
       "│    └─MaxPool2d (9)                     [32, 128, 112, 112]  [32, 128, 56, 56]    --                   --\n",
       "│    └─Conv2d (10)                       [32, 128, 56, 56]    [32, 256, 56, 56]    (295,168)            False\n",
       "│    └─ReLU (11)                         [32, 256, 56, 56]    [32, 256, 56, 56]    --                   --\n",
       "│    └─Conv2d (12)                       [32, 256, 56, 56]    [32, 256, 56, 56]    (590,080)            False\n",
       "│    └─ReLU (13)                         [32, 256, 56, 56]    [32, 256, 56, 56]    --                   --\n",
       "│    └─Conv2d (14)                       [32, 256, 56, 56]    [32, 256, 56, 56]    (590,080)            False\n",
       "│    └─ReLU (15)                         [32, 256, 56, 56]    [32, 256, 56, 56]    --                   --\n",
       "│    └─MaxPool2d (16)                    [32, 256, 56, 56]    [32, 256, 28, 28]    --                   --\n",
       "│    └─Conv2d (17)                       [32, 256, 28, 28]    [32, 512, 28, 28]    (1,180,160)          False\n",
       "│    └─ReLU (18)                         [32, 512, 28, 28]    [32, 512, 28, 28]    --                   --\n",
       "│    └─Conv2d (19)                       [32, 512, 28, 28]    [32, 512, 28, 28]    (2,359,808)          False\n",
       "│    └─ReLU (20)                         [32, 512, 28, 28]    [32, 512, 28, 28]    --                   --\n",
       "│    └─Conv2d (21)                       [32, 512, 28, 28]    [32, 512, 28, 28]    (2,359,808)          False\n",
       "│    └─ReLU (22)                         [32, 512, 28, 28]    [32, 512, 28, 28]    --                   --\n",
       "│    └─MaxPool2d (23)                    [32, 512, 28, 28]    [32, 512, 14, 14]    --                   --\n",
       "│    └─Conv2d (24)                       [32, 512, 14, 14]    [32, 512, 14, 14]    (2,359,808)          False\n",
       "│    └─ReLU (25)                         [32, 512, 14, 14]    [32, 512, 14, 14]    --                   --\n",
       "│    └─Conv2d (26)                       [32, 512, 14, 14]    [32, 512, 14, 14]    (2,359,808)          False\n",
       "│    └─ReLU (27)                         [32, 512, 14, 14]    [32, 512, 14, 14]    --                   --\n",
       "│    └─Conv2d (28)                       [32, 512, 14, 14]    [32, 512, 14, 14]    (2,359,808)          False\n",
       "│    └─ReLU (29)                         [32, 512, 14, 14]    [32, 512, 14, 14]    --                   --\n",
       "│    └─MaxPool2d (30)                    [32, 512, 14, 14]    [32, 512, 7, 7]      --                   --\n",
       "├─AdaptiveAvgPool2d (avgpool)            [32, 512, 7, 7]      [32, 512, 7, 7]      --                   --\n",
       "├─Sequential (classifier)                [32, 25088]          [32, 1000]           --                   False\n",
       "│    └─Linear (0)                        [32, 25088]          [32, 4096]           (102,764,544)        False\n",
       "│    └─ReLU (1)                          [32, 4096]           [32, 4096]           --                   --\n",
       "│    └─Dropout (2)                       [32, 4096]           [32, 4096]           --                   --\n",
       "│    └─Linear (3)                        [32, 4096]           [32, 4096]           (16,781,312)         False\n",
       "│    └─ReLU (4)                          [32, 4096]           [32, 4096]           --                   --\n",
       "│    └─Dropout (5)                       [32, 4096]           [32, 4096]           --                   --\n",
       "│    └─Linear (6)                        [32, 4096]           [32, 1000]           (4,097,000)          False\n",
       "========================================================================================================================\n",
       "Total params: 138,357,544\n",
       "Trainable params: 0\n",
       "Non-trainable params: 138,357,544\n",
       "Total mult-adds (Units.GIGABYTES): 495.48\n",
       "========================================================================================================================\n",
       "Input size (MB): 19.27\n",
       "Forward/backward pass size (MB): 3470.52\n",
       "Params size (MB): 553.43\n",
       "Estimated Total Size (MB): 4043.22\n",
       "========================================================================================================================"
      ]
     },
     "execution_count": 127,
     "metadata": {},
     "output_type": "execute_result"
    }
   ],
   "source": [
    "summary(model=model_vgg16,\n",
    "       input_size=(32,3,224,224),\n",
    "       col_names=[\"input_size\",\"output_size\",\"num_params\",\"trainable\"],\n",
    "       col_width=20,\n",
    "       row_settings=[\"var_names\"])\n"
   ]
  },
  {
   "cell_type": "markdown",
   "metadata": {
    "application/vnd.databricks.v1+cell": {
     "cellMetadata": {},
     "inputWidgets": {},
     "nuid": "a277bdc6-bef1-47d9-9089-6fed6e91d3d4",
     "showTitle": false,
     "tableResultSettingsMap": {},
     "title": ""
    }
   },
   "source": [
    "# Baseline:\n",
    "Below model is to modify the fully connected (fc) layer of a pre-trained GoogleNet model in PyTorch by adding layers as below:\n",
    "1. First layer is added to the sequential module with 1024 input features and 512 output features.\n",
    "2. To reduce non-linearity and improve learning of model on complex patterns, a ReLu activation function is added in second layer to act on the output of the first layer\n",
    "3. Third layer is added with drop out to reduce overfitting of the model by randomly dropping out some of the neurons during training for regularization.\n",
    "4. Forth layer is added to generate output having total classes = number of classes in original dataset.\n",
    "5. Last layer is added to take Log of SoftMax function on probability of the prediction belonging to each class.\n",
    "By doing this, in this baseline model is  replacing the original fc layer of the pre-trained GoogleNet model with the new sequential module. "
   ]
  },
  {
   "cell_type": "code",
   "execution_count": null,
   "metadata": {},
   "outputs": [],
   "source": [
    "def train_step(model: torch.nn.Module,\n",
    "               data_loader: torch.utils.data.DataLoader,\n",
    "               loss_fn: torch.nn.Module,\n",
    "               optimizer: torch.optim.Optimizer,\n",
    "               device: torch.device):\n",
    "    model.train()\n",
    "    correct_train, total_train = 0,0\n",
    "    train_epoch_loss = 0\n",
    "    for batch,(image,label) in enumerate(data_loader):\n",
    "        image, label=image.to(device), label.to(device)\n",
    "        \n",
    "        # Forward Pass\n",
    "        y_pred=model(image)\n",
    "        loss=loss_fn(y_pred,label)\n",
    "        running_loss += loss.item()\n",
    "        \n",
    "        # Back prop\n",
    "        optimizer.zero_grad()\n",
    "        loss.backward()\n",
    "        optimizer.step()\n",
    "        \n",
    "        # Calc Acc\n",
    "        y_pred_class=torch.argmax(torch.softmax(y_pred,dim=1),dim=1)\n",
    "        correct_train +=(y_pred_class==label).sum().item()\n",
    "        total_train += label.size(0)\n",
    "        \n",
    "    train_epoch_loss= running_loss / total_train\n",
    "    train_accuracy = correct_train / total_train\n",
    "    return train_epoch_loss,train_accuracy,model\n",
    "\n",
    "def test_step(model:torch.nn.Module,\n",
    "             data_loader: torch.utils.data.DataLoader,\n",
    "              loss_fn:torch.nn.Module,\n",
    "              device:torch.device): \n",
    "    \n",
    "    correct_test, total_test = 0,0\n",
    "    test_epoch_loss = 0\n",
    "    running_loss=0\n",
    "    results = []\n",
    "    model.eval()\n",
    "    with torch.inference_mode():\n",
    "        for batch_idx, (images, labels, file_paths, indices) in enumerate(data_loader):\n",
    "            images, labels=images.to(device), labels.to(device)    \n",
    "            \n",
    "            # Forward Pass\n",
    "            test_pred_logits=model(images)\n",
    "            loss=loss_fn(test_pred_logits,labels)\n",
    "            running_loss += loss.item()\n",
    "\n",
    "            # Get Predictions and Probabilities\n",
    "            test_pred_probs = torch.softmax(test_pred_logits, dim=1)\n",
    "            test_pred_labels = test_pred_probs.argmax(dim=1)\n",
    "\n",
    "            # Store Results for Each Item in the Batch\n",
    "            for i in range(len(images)):\n",
    "                results.append({\n",
    "                    \"Image\": batch_idx * batch_size + i + 1,  \n",
    "                    \"Image_Path\": file_paths[i],  \n",
    "                    \"Label\": test_dataset_with_paths.classes[labels[i].item()], \n",
    "                    \"Prediction\": test_dataset_with_paths.classes[test_pred_labels[i].item()], \n",
    "                    \"Probability\": test_pred_probs[i, test_pred_labels[i]].item()  \n",
    "                })\n",
    "\n",
    "            # Update metrics\n",
    "            correct_test += (test_pred_labels == labels).sum().item()\n",
    "            total_test += labels.size(0)\n",
    "            \n",
    "        test_epoch_loss = running_loss / total_test\n",
    "        test_accuracy = correct_test / total_test\n",
    "    return test_epoch_loss,test_accuracy, results\n",
    "\n",
    "def train_and_test(model:torch.nn.Module,\n",
    "          train_dataloader:torch.utils.data.DataLoader,\n",
    "          test_dataloader:torch.utils.data.DataLoader,\n",
    "          optimizer:torch.optim.Optimizer,\n",
    "          loss_fn:torch.nn.Module,\n",
    "          epochs:int,\n",
    "          device):\n",
    "    results={\"train_loss\":[],\n",
    "             \"train_acc\":[],\n",
    "             \"test_loss\":[],\n",
    "             \"test_acc\":[],\n",
    "             \"model\":None}\n",
    "    train_loss = 0\n",
    "    train_acc = 0\n",
    "    for epoch in tqdm(range(epochs)):\n",
    "        train_start=timer()\n",
    "        train_loss,train_acc,model=train_step(model=model,\n",
    "                                       data_loader=train_dataloader,\n",
    "                                       loss_fn=loss_fn,\n",
    "                                       optimizer=optimizer,\n",
    "                                       device=device)\n",
    "        test_start=timer()\n",
    "        test_loss,test_acc,_ =test_step(model=model,\n",
    "                                       data_loader=test_dataloader,\n",
    "                                       loss_fn=loss_fn,\n",
    "                                       device=device)\n",
    "        print(f\"Epoch:{epoch}\\\n",
    "              train_loss:{train_loss:.4f}\\\n",
    "              train_acc:{train_acc:.4f}\\\n",
    "              train_time:{test_start-train_start:.2f}\\\n",
    "              test_loss:{test_loss:.4f}\\\n",
    "              test_acc:{test_acc:.4f}\\\n",
    "              test_time:{timer()-test_start:.2f}\")\n",
    "        \n",
    "        results[\"train_loss\"].append(train_loss)\n",
    "        results[\"train_acc\"].append(train_acc)\n",
    "        results[\"test_loss\"].append(test_loss)\n",
    "        results[\"test_acc\"].append(test_acc)\n",
    "        results[\"model\"] = model\n",
    "    \n",
    "    return results\n"
   ]
  },
  {
   "cell_type": "code",
   "execution_count": 74,
   "metadata": {},
   "outputs": [
    {
     "name": "stdout",
     "output_type": "stream",
     "text": [
      "Estimated memory usage per batch: 18.38 MB\n"
     ]
    }
   ],
   "source": [
    "def estimate_memory(batch_size, image_size, channels, dtype=torch.float32):\n",
    "    bytes_per_element = torch.tensor([], dtype=dtype).element_size()\n",
    "    total_bytes = batch_size * image_size[0] * image_size[1] * channels * bytes_per_element\n",
    "    total_mb = total_bytes / (1024 ** 2)\n",
    "    return total_mb\n",
    "\n",
    "memory_usage_mb = estimate_memory(batch_size=batch_size, image_size=(224, 224), channels=3, dtype=torch.float32)\n",
    "print(f\"Estimated memory usage per batch: {memory_usage_mb:.2f} MB\")\n",
    "\n",
    "def save_results(results:dict, save_dir:Path):\n",
    "    for attr_name,attr in results.items():\n",
    "        full_stem_path = Path(f'{save_dir}/{attr_name}')\n",
    "        \n",
    "        # Accuracy and Loss\n",
    "        if isinstance(attr, list):\n",
    "            np.save(full_stem_path.with_suffix('.npy'),  np.array(attr))\n",
    "    \n",
    "        # PyTorch Model\n",
    "        elif isinstance(attr, nn.Module):\n",
    "            torch.save(attr.state_dict(), full_stem_path.with_suffix('.pt'))\n",
    "\n",
    "        else:\n",
    "            raise TypeError(f\"Unexpected type, {attr_name} not saved\")\n",
    "            \n",
    "        print(f'Data saved to disk: {full_stem_path}')"
   ]
  },
  {
   "cell_type": "markdown",
   "metadata": {},
   "source": [
    "#### Setup"
   ]
  },
  {
   "cell_type": "code",
   "execution_count": 107,
   "metadata": {
    "application/vnd.databricks.v1+cell": {
     "cellMetadata": {
      "byteLimit": 2048000,
      "rowLimit": 10000
     },
     "inputWidgets": {},
     "nuid": "02a2d507-486c-44e8-8bdb-41d291e5ca26",
     "showTitle": false,
     "tableResultSettingsMap": {},
     "title": ""
    }
   },
   "outputs": [
    {
     "name": "stdout",
     "output_type": "stream",
     "text": [
      "MPS is available. Training with MPS.\n"
     ]
    }
   ],
   "source": [
    "device = device_setup()\n",
    "num_classes = len(class_names)\n",
    "\n",
    "model_vgg16.fc = nn.Sequential(\n",
    "    nn.Linear(1024,512), nn.ReLU(), nn.Dropout(0.4),\n",
    "    nn.Linear(512, num_classes), nn.LogSoftmax(dim=1)\n",
    "    ).to(device)\n",
    "\n",
    "optimizer=torch.optim.Adam(params=model_vgg16.parameters(),lr=0.001)\n",
    "loss_fn=nn.CrossEntropyLoss()\n",
    "\n",
    "# Save model, accuracy, and loss per epoch\n",
    "experiment = \"transfer_learning\"\n",
    "model_description = \"vgg16_baseline_test\"\n",
    "save_dir = Path(f'{os.getcwd()}/{experiment}/{model_description}')\n",
    "save_dir.mkdir(parents=True, exist_ok=True)\n",
    "assert save_dir.exists(),f'Path to Save directory is not valid:\\n{save_dir}' \n",
    "\n",
    "model_vgg16 = model_vgg16.requires_grad_(True).to(device)"
   ]
  },
  {
   "cell_type": "markdown",
   "metadata": {},
   "source": [
    "#### Load Model"
   ]
  },
  {
   "cell_type": "code",
   "execution_count": 137,
   "metadata": {},
   "outputs": [
    {
     "name": "stderr",
     "output_type": "stream",
     "text": [
      "/Users/joshuajones/Desktop/IU_Grad_School/Courses/ENGR_E_533/Homework/Repos/ENGR_E533_Project/.venv/lib/python3.12/site-packages/torchvision/models/_utils.py:208: UserWarning: The parameter 'pretrained' is deprecated since 0.13 and may be removed in the future, please use 'weights' instead.\n",
      "  warnings.warn(\n",
      "/Users/joshuajones/Desktop/IU_Grad_School/Courses/ENGR_E_533/Homework/Repos/ENGR_E533_Project/.venv/lib/python3.12/site-packages/torchvision/models/_utils.py:223: UserWarning: Arguments other than a weight enum or `None` for 'weights' are deprecated since 0.13 and may be removed in the future. The current behavior is equivalent to passing `weights=None`.\n",
      "  warnings.warn(msg)\n"
     ]
    },
    {
     "name": "stdout",
     "output_type": "stream",
     "text": [
      "Checkpoint loaded from /Users/joshuajones/Desktop/IU_Grad_School/Courses/ENGR_E_533/Homework/Repos/ENGR_E533_Project/model_vgg16_finetuned_15epochs/model.pt\n",
      "Data loaded from disk: /Users/joshuajones/Desktop/IU_Grad_School/Courses/ENGR_E_533/Homework/Repos/ENGR_E533_Project/model_vgg16_finetuned_15epochs/model.pt\n",
      "Checkpoint loaded from /Users/joshuajones/Desktop/IU_Grad_School/Courses/ENGR_E_533/Homework/Repos/ENGR_E533_Project/model_vgg16_finetuned_15epochs/model.pt\n",
      "Data loaded from disk: /Users/joshuajones/Desktop/IU_Grad_School/Courses/ENGR_E_533/Homework/Repos/ENGR_E533_Project/model_vgg16_finetuned_15epochs/model.pt\n",
      "dict_keys(['model', 'epoch', 'loss', 'accuracy'])\n"
     ]
    }
   ],
   "source": [
    "def create_modified_vgg16(num_classes=141):\n",
    "    model = torchvision.models.vgg16(pretrained=False)\n",
    "    model.fc = torch.nn.Sequential(\n",
    "        torch.nn.Linear(1024, 512),\n",
    "        torch.nn.ReLU(),\n",
    "        torch.nn.Dropout(0.4),\n",
    "        torch.nn.Linear(512, num_classes),\n",
    "        torch.nn.LogSoftmax(dim=1)\n",
    "    )\n",
    "    return model\n",
    "\n",
    "def load_results(load_dir: Path, model_class=None, optimizer_class=None, device=\"cpu\") -> dict:\n",
    "    results = {}\n",
    "    \n",
    "    for file_path in load_dir.iterdir():\n",
    "        attr_name = file_path.stem\n",
    "        ext = file_path.suffix\n",
    "        \n",
    "        # Load loss or accuracy arrays\n",
    "        if ext == \".npy\":\n",
    "            results[attr_name] = np.load(file_path, allow_pickle=True).tolist()\n",
    "        \n",
    "        # Load torch model\n",
    "        elif ext == \".pt\":\n",
    "            if \"weights\" in attr_name:  # Weights-only file\n",
    "                if model_class is None:\n",
    "                    raise ValueError(f\"Cannot load weights from {file_path} without a model class.\")\n",
    "                \n",
    "                model = model_class  # Instantiate the model\n",
    "                model.load_state_dict(torch.load(file_path, map_location=device))\n",
    "                results[\"model\"] = model\n",
    "                print(f\"Model weights loaded from {file_path}\")\n",
    "            \n",
    "            else:  # Full checkpoint file\n",
    "                checkpoint = torch.load(file_path, map_location=device, weights_only=False)\n",
    "                \n",
    "                if model_class is None:\n",
    "                    raise ValueError(f\"Cannot load checkpoint from {file_path} without a model class.\")\n",
    "                \n",
    "                # Load model state\n",
    "                model = model_class\n",
    "                model.load_state_dict(checkpoint[\"model_state_dict\"])\n",
    "                results[\"model\"] = model\n",
    "                \n",
    "                # Load optimizer state (if optimizer class provided)\n",
    "                if optimizer_class:\n",
    "                    optimizer.load_state_dict(checkpoint[\"optimizer_state_dict\"])\n",
    "                    results[\"optimizer\"] = optimizer\n",
    "                \n",
    "                # Add metadata (epoch, loss, accuracy)\n",
    "                results[\"epoch\"] = checkpoint.get(\"epoch\", None)\n",
    "                results[\"loss\"] = checkpoint.get(\"loss\", None)\n",
    "                results[\"accuracy\"] = checkpoint.get(\"accuracy\", None)\n",
    "                \n",
    "                print(f\"Checkpoint loaded from {file_path}\")\n",
    "        else:\n",
    "            raise TypeError(f\"Unexpected file type: {file_path}\")\n",
    "        \n",
    "        print(f\"Data loaded from disk: {file_path}\")\n",
    "    \n",
    "    return results\n",
    "\n",
    "\n",
    "\n",
    "experiment = \"model_vgg16_finetuned_15epochs\"\n",
    "load_dir = Path(f'{os.getcwd()}/{experiment}')\n",
    "\n",
    "\n",
    "model_class = create_modified_vgg16()\n",
    "loaded_results = load_results(load_dir, model_class=model_class, optimizer_class=optimizer, device=\"cpu\")\n",
    "\n",
    "loaded_results = load_results(load_dir, model_class=model_class, device=device)\n",
    "loaded_model = loaded_results[\"model\"].to(device)\n",
    "print(loaded_results.keys())"
   ]
  },
  {
   "cell_type": "markdown",
   "metadata": {},
   "source": [
    "#### Run Inference with Demo Dataset"
   ]
  },
  {
   "cell_type": "code",
   "execution_count": null,
   "metadata": {
    "application/vnd.databricks.v1+cell": {
     "cellMetadata": {
      "byteLimit": 2048000,
      "rowLimit": 10000
     },
     "inputWidgets": {},
     "nuid": "ed1659d7-87be-42cf-b9bd-199161b50aee",
     "showTitle": false,
     "tableResultSettingsMap": {},
     "title": ""
    }
   },
   "outputs": [
    {
     "name": "stdout",
     "output_type": "stream",
     "text": [
      "[INFO]Total Test time= 32.897 seconds\n",
      "   Image                              Image_Path    Label Prediction  \\\n",
      "0      1  fruits-360/Test/Apple 6/r0_139_100.jpg  Apple 6    Apple 6   \n",
      "1      2  fruits-360/Test/Apple 6/r1_199_100.jpg  Apple 6    Apple 6   \n",
      "2      3   fruits-360/Test/Apple 6/r1_39_100.jpg  Apple 6    Apple 6   \n",
      "3      4  fruits-360/Test/Apple 6/r1_279_100.jpg  Apple 6    Apple 6   \n",
      "\n",
      "   Probability  \n",
      "0          1.0  \n",
      "1          1.0  \n",
      "2          1.0  \n",
      "3          1.0  \n",
      "Results saved to /Users/joshuajones/Desktop/IU_Grad_School/Courses/ENGR_E_533/Homework/Repos/ENGR_E533_Project/demo_results.csv\n"
     ]
    }
   ],
   "source": [
    "start_time=timer()\n",
    "test_loss,test_acc,test_results=test_step(model=loaded_model,\n",
    "                    data_loader=demo_test_dataloader,\n",
    "                    loss_fn=loss_fn,\n",
    "                    device=device)\n",
    "\n",
    "print(f\"[INFO]Total Test time= {timer()-start_time:.3f} seconds\")\n",
    "\n",
    "results_df = pd.DataFrame(test_results)\n",
    "\n",
    "# Save to CSV file for streamlit \n",
    "results_csv_path = f\"{os.getcwd()}/demo_results.csv\"\n",
    "results_df.to_csv(results_csv_path, index=False)\n",
    "print(f\"Results saved to {results_csv_path}\")"
   ]
  }
 ],
 "metadata": {
  "application/vnd.databricks.v1+notebook": {
   "dashboards": [],
   "environmentMetadata": null,
   "language": "python",
   "notebookMetadata": {
    "pythonIndentUnit": 2
   },
   "notebookName": "SGujar_MyProducePal_PyTorch-VGG16-TransferLearning",
   "widgets": {}
  },
  "kernelspec": {
   "display_name": ".venv",
   "language": "python",
   "name": "python3"
  },
  "language_info": {
   "codemirror_mode": {
    "name": "ipython",
    "version": 3
   },
   "file_extension": ".py",
   "mimetype": "text/x-python",
   "name": "python",
   "nbconvert_exporter": "python",
   "pygments_lexer": "ipython3",
   "version": "3.12.2"
  }
 },
 "nbformat": 4,
 "nbformat_minor": 0
}
